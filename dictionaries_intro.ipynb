{
 "cells": [
  {
   "cell_type": "markdown",
   "metadata": {},
   "source": [
    "# What are Dictionaries in Python?\n",
    "### The simplest was of defining a dictionary in python is- It is a mapping between a set of indices(keys) and values. Each key maps to a value. The combination of a key and value is called a key-value pair. The dictionary function is written as dict()."
   ]
  },
  {
   "cell_type": "code",
   "execution_count": 1,
   "metadata": {},
   "outputs": [
    {
     "name": "stdout",
     "output_type": "stream",
     "text": [
      "{}\n"
     ]
    }
   ],
   "source": [
    "x= dict()\n",
    "print(x)"
   ]
  },
  {
   "cell_type": "markdown",
   "metadata": {},
   "source": [
    "Here the curly brackets represent an empty dictionary.\n",
    "The example of a dictionary with one key and a value is as given below:"
   ]
  },
  {
   "cell_type": "code",
   "execution_count": 2,
   "metadata": {},
   "outputs": [
    {
     "name": "stdout",
     "output_type": "stream",
     "text": [
      "{'a': 'apple'}\n"
     ]
    }
   ],
   "source": [
    "x['a']='apple'\n",
    "print(x)"
   ]
  },
  {
   "cell_type": "markdown",
   "metadata": {},
   "source": [
    "So the key 'a' is mapped to value 'apple' here. The above output format can also be used as an input format for the dictionary function:"
   ]
  },
  {
   "cell_type": "markdown",
   "metadata": {},
   "source": [
    "### You can find the values by calling the keys in the following way:"
   ]
  },
  {
   "cell_type": "code",
   "execution_count": 3,
   "metadata": {},
   "outputs": [
    {
     "name": "stdout",
     "output_type": "stream",
     "text": [
      "{'a': 'apple', 'b': 'ball', 'c': 'cat'}\n",
      "ball\n"
     ]
    }
   ],
   "source": [
    "x={'a':'apple','b':'ball','c':'cat'}\n",
    "print(x)\n",
    "print(x['b'])"
   ]
  },
  {
   "cell_type": "markdown",
   "metadata": {},
   "source": [
    "Thus, visibly, the dictionary function can be used to call the values associated with the keys. Say, if theres a collection of names and data associated with it- like phone number, ssn. Then the data can be called by calling the name itself."
   ]
  },
  {
   "cell_type": "markdown",
   "metadata": {},
   "source": [
    "### Just like strings and lists, the length of a dictionary can also be known using the len() function:"
   ]
  },
  {
   "cell_type": "code",
   "execution_count": 4,
   "metadata": {},
   "outputs": [
    {
     "name": "stdout",
     "output_type": "stream",
     "text": [
      "3\n"
     ]
    }
   ],
   "source": [
    "x={'a':'apple','b':'ball','c':'cat'}\n",
    "print(len(x))"
   ]
  },
  {
   "cell_type": "markdown",
   "metadata": {},
   "source": [
    "### To know if a key appears in a dictionary, in function is used:"
   ]
  },
  {
   "cell_type": "code",
   "execution_count": 5,
   "metadata": {},
   "outputs": [
    {
     "data": {
      "text/plain": [
       "True"
      ]
     },
     "execution_count": 5,
     "metadata": {},
     "output_type": "execute_result"
    }
   ],
   "source": [
    "x={'a':'apple','b':'ball','c':'cat'}\n",
    "'a' in x"
   ]
  },
  {
   "cell_type": "code",
   "execution_count": 6,
   "metadata": {},
   "outputs": [
    {
     "data": {
      "text/plain": [
       "False"
      ]
     },
     "execution_count": 6,
     "metadata": {},
     "output_type": "execute_result"
    }
   ],
   "source": [
    "x={'a':'apple','b':'ball','c':'cat'}\n",
    "'d' in x"
   ]
  },
  {
   "cell_type": "markdown",
   "metadata": {},
   "source": [
    "### In the same way, to know if a value appears in the dictionary, in function is used:"
   ]
  },
  {
   "cell_type": "code",
   "execution_count": 7,
   "metadata": {},
   "outputs": [
    {
     "data": {
      "text/plain": [
       "True"
      ]
     },
     "execution_count": 7,
     "metadata": {},
     "output_type": "execute_result"
    }
   ],
   "source": [
    "x={'a':'apple','b':'ball','c':'cat'}\n",
    "y=list(x.values())\n",
    "'apple' in y"
   ]
  },
  {
   "cell_type": "markdown",
   "metadata": {},
   "source": [
    "The in operator uses linear search algorithm for lists. In simple word, the search time gets longer as the length of the list increases. Where as for dictionaries, python uses something called hash table."
   ]
  },
  {
   "cell_type": "markdown",
   "metadata": {},
   "source": [
    "### Dictionary has a function which will call the value associated with its key, if the key is a part of the dictionary. Otherwise, it will simply return a predefined value:"
   ]
  },
  {
   "cell_type": "code",
   "execution_count": 8,
   "metadata": {},
   "outputs": [
    {
     "name": "stdout",
     "output_type": "stream",
     "text": [
      "apple\n"
     ]
    }
   ],
   "source": [
    "x={'a':'apple','b':'ball','c':'cat'}\n",
    "print(x.get('a',0))"
   ]
  },
  {
   "cell_type": "code",
   "execution_count": 9,
   "metadata": {},
   "outputs": [
    {
     "name": "stdout",
     "output_type": "stream",
     "text": [
      "0\n"
     ]
    }
   ],
   "source": [
    "x={'a':'apple','b':'ball','c':'cat'}\n",
    "print(x.get('d',0))"
   ]
  },
  {
   "cell_type": "markdown",
   "metadata": {},
   "source": [
    "# What is a function in Python?\n",
    "### In relation to programming, a function is a named sequence of statements that perfoms a calculation.\n",
    "for example:"
   ]
  },
  {
   "cell_type": "code",
   "execution_count": 11,
   "metadata": {},
   "outputs": [
    {
     "data": {
      "text/plain": [
       "int"
      ]
     },
     "execution_count": 11,
     "metadata": {},
     "output_type": "execute_result"
    }
   ],
   "source": [
    "type(1)"
   ]
  },
  {
   "cell_type": "markdown",
   "metadata": {},
   "source": [
    "Here the function's name is type and the number in the brackets is known as the argument of the function. The argument is a value or a variable that is passed in the function as its input. "
   ]
  },
  {
   "cell_type": "markdown",
   "metadata": {},
   "source": [
    "### Python has a ton of functions built into it that we can use without defining. These functions can be used to solve common problems:"
   ]
  },
  {
   "cell_type": "markdown",
   "metadata": {},
   "source": [
    "The max and min functions can be used to find the largest and the smallest value respectively as below:"
   ]
  },
  {
   "cell_type": "code",
   "execution_count": 12,
   "metadata": {},
   "outputs": [
    {
     "data": {
      "text/plain": [
       "'w'"
      ]
     },
     "execution_count": 12,
     "metadata": {},
     "output_type": "execute_result"
    }
   ],
   "source": [
    "max('Hello world')"
   ]
  },
  {
   "cell_type": "code",
   "execution_count": 13,
   "metadata": {},
   "outputs": [
    {
     "data": {
      "text/plain": [
       "' '"
      ]
     },
     "execution_count": 13,
     "metadata": {},
     "output_type": "execute_result"
    }
   ],
   "source": [
    "min('Hello world')"
   ]
  },
  {
   "cell_type": "markdown",
   "metadata": {},
   "source": [
    "Thus the max functions gives out 'w' as the largest output and the smallest output is the space."
   ]
  },
  {
   "cell_type": "markdown",
   "metadata": {},
   "source": [
    "The lenth function can be used as below:"
   ]
  },
  {
   "cell_type": "code",
   "execution_count": 14,
   "metadata": {},
   "outputs": [
    {
     "data": {
      "text/plain": [
       "11"
      ]
     },
     "execution_count": 14,
     "metadata": {},
     "output_type": "execute_result"
    }
   ],
   "source": [
    "len('Hello world')"
   ]
  },
  {
   "cell_type": "markdown",
   "metadata": {},
   "source": [
    "### Type of conversion functions:"
   ]
  },
  {
   "cell_type": "markdown",
   "metadata": {},
   "source": [
    "Python gives a number of built-in functions to convert values from one type to another. The 'int' functions uses a value to convert it into an integer if it can, or it throws up an error otherwise:"
   ]
  },
  {
   "cell_type": "code",
   "execution_count": 15,
   "metadata": {},
   "outputs": [
    {
     "data": {
      "text/plain": [
       "2"
      ]
     },
     "execution_count": 15,
     "metadata": {},
     "output_type": "execute_result"
    }
   ],
   "source": [
    "int(2.0)"
   ]
  },
  {
   "cell_type": "code",
   "execution_count": 16,
   "metadata": {},
   "outputs": [
    {
     "ename": "ValueError",
     "evalue": "invalid literal for int() with base 10: 'Hello'",
     "output_type": "error",
     "traceback": [
      "\u001b[0;31m---------------------------------------------------------------------------\u001b[0m",
      "\u001b[0;31mValueError\u001b[0m                                Traceback (most recent call last)",
      "\u001b[0;32m<ipython-input-16-6765ce49acfe>\u001b[0m in \u001b[0;36m<module>\u001b[0;34m\u001b[0m\n\u001b[0;32m----> 1\u001b[0;31m \u001b[0mint\u001b[0m\u001b[0;34m(\u001b[0m\u001b[0;34m'Hello'\u001b[0m\u001b[0;34m)\u001b[0m\u001b[0;34m\u001b[0m\u001b[0;34m\u001b[0m\u001b[0m\n\u001b[0m",
      "\u001b[0;31mValueError\u001b[0m: invalid literal for int() with base 10: 'Hello'"
     ]
    }
   ],
   "source": [
    "int('Hello')"
   ]
  },
  {
   "cell_type": "markdown",
   "metadata": {},
   "source": [
    "Thus 'int' can convert floating point values to integers. It cannot round off, but it cuts off the fractional value:"
   ]
  },
  {
   "cell_type": "code",
   "execution_count": 17,
   "metadata": {},
   "outputs": [
    {
     "data": {
      "text/plain": [
       "2"
      ]
     },
     "execution_count": 17,
     "metadata": {},
     "output_type": "execute_result"
    }
   ],
   "source": [
    "int(2.3)"
   ]
  },
  {
   "cell_type": "code",
   "execution_count": 18,
   "metadata": {},
   "outputs": [
    {
     "data": {
      "text/plain": [
       "-2"
      ]
     },
     "execution_count": 18,
     "metadata": {},
     "output_type": "execute_result"
    }
   ],
   "source": [
    "int(-2.4)"
   ]
  },
  {
   "cell_type": "markdown",
   "metadata": {},
   "source": [
    "In the same way, 'str' converts the value to string and 'float' convers to a floating point integer:"
   ]
  },
  {
   "cell_type": "code",
   "execution_count": 19,
   "metadata": {},
   "outputs": [
    {
     "data": {
      "text/plain": [
       "'12'"
      ]
     },
     "execution_count": 19,
     "metadata": {},
     "output_type": "execute_result"
    }
   ],
   "source": [
    "str(12)"
   ]
  },
  {
   "cell_type": "code",
   "execution_count": 20,
   "metadata": {},
   "outputs": [
    {
     "data": {
      "text/plain": [
       "12.0"
      ]
     },
     "execution_count": 20,
     "metadata": {},
     "output_type": "execute_result"
    }
   ],
   "source": [
    "float(12)"
   ]
  },
  {
   "cell_type": "code",
   "execution_count": 21,
   "metadata": {},
   "outputs": [
    {
     "data": {
      "text/plain": [
       "12.0"
      ]
     },
     "execution_count": 21,
     "metadata": {},
     "output_type": "execute_result"
    }
   ],
   "source": [
    "float('12')"
   ]
  },
  {
   "cell_type": "markdown",
   "metadata": {},
   "source": [
    "### Even random numbers can be generated in python using the following function. These numbers are called nondeterministic:"
   ]
  },
  {
   "cell_type": "code",
   "execution_count": 33,
   "metadata": {},
   "outputs": [
    {
     "name": "stdout",
     "output_type": "stream",
     "text": [
      "0.9623519181117511\n",
      "0.3222263263827454\n",
      "0.011195460495453391\n",
      "0.21118496368012718\n",
      "0.015413488753434179\n",
      "0.3223470166822723\n",
      "0.153536734599659\n",
      "0.7745350671484925\n",
      "0.3836835682121045\n",
      "0.8853123512740718\n"
     ]
    }
   ],
   "source": [
    "import random\n",
    "\n",
    "for i in range(10):\n",
    "    x = random.random()\n",
    "    print(x)"
   ]
  },
  {
   "cell_type": "code",
   "execution_count": 34,
   "metadata": {},
   "outputs": [
    {
     "data": {
      "text/plain": [
       "4"
      ]
     },
     "execution_count": 34,
     "metadata": {},
     "output_type": "execute_result"
    }
   ],
   "source": [
    "random.randint(1,10)"
   ]
  },
  {
   "cell_type": "code",
   "execution_count": 35,
   "metadata": {},
   "outputs": [
    {
     "data": {
      "text/plain": [
       "1"
      ]
     },
     "execution_count": 35,
     "metadata": {},
     "output_type": "execute_result"
    }
   ],
   "source": [
    "random.randint(1,10)"
   ]
  },
  {
   "cell_type": "code",
   "execution_count": 42,
   "metadata": {},
   "outputs": [
    {
     "data": {
      "text/plain": [
       "3"
      ]
     },
     "execution_count": 42,
     "metadata": {},
     "output_type": "execute_result"
    }
   ],
   "source": [
    "t=[1, 2, 3]\n",
    "random.choice(t)"
   ]
  },
  {
   "cell_type": "markdown",
   "metadata": {},
   "source": [
    "### Math Functions: There is a math module in Python which gives access to some common math functions. We have to import it, before using this module. These are shown below:"
   ]
  },
  {
   "cell_type": "code",
   "execution_count": 45,
   "metadata": {},
   "outputs": [
    {
     "name": "stdout",
     "output_type": "stream",
     "text": [
      "<module 'math' from '//anaconda3/lib/python3.7/lib-dynload/math.cpython-37m-darwin.so'>\n"
     ]
    }
   ],
   "source": [
    "import math\n",
    "print(math)"
   ]
  },
  {
   "cell_type": "markdown",
   "metadata": {},
   "source": [
    "To call the functions and variables from the math module, you have to specify the name of the module and that of the function with a full stop in between them. This format is know as the dot notation. The examples are given below:"
   ]
  },
  {
   "cell_type": "code",
   "execution_count": 51,
   "metadata": {},
   "outputs": [
    {
     "data": {
      "text/plain": [
       "0.7071067811865475"
      ]
     },
     "execution_count": 51,
     "metadata": {},
     "output_type": "execute_result"
    }
   ],
   "source": [
    "degrees = 45\n",
    "radians = degrees / 360.0 * 2 * math.pi\n",
    "math.sin(radians)"
   ]
  },
  {
   "cell_type": "markdown",
   "metadata": {},
   "source": [
    "Here in math.pi, the variable is pi which is being called from the math module."
   ]
  },
  {
   "cell_type": "markdown",
   "metadata": {},
   "source": [
    "### Similarly the expression to call square root function is as given below:"
   ]
  },
  {
   "cell_type": "code",
   "execution_count": 52,
   "metadata": {},
   "outputs": [
    {
     "data": {
      "text/plain": [
       "1.4142135623730951"
      ]
     },
     "execution_count": 52,
     "metadata": {},
     "output_type": "execute_result"
    }
   ],
   "source": [
    "math.sqrt(2)"
   ]
  },
  {
   "cell_type": "markdown",
   "metadata": {},
   "source": [
    "### Adding new functions:"
   ]
  },
  {
   "cell_type": "markdown",
   "metadata": {},
   "source": [
    "Python also makes it possible to add new functions. A new function can be defined and can be used again and again in a code to make it easy for the programmer. The example is as given below:"
   ]
  },
  {
   "cell_type": "code",
   "execution_count": 57,
   "metadata": {},
   "outputs": [
    {
     "name": "stdout",
     "output_type": "stream",
     "text": [
      "Tatad Tatad Tatad Tatad Tatad Tatad Tatad Tadad\n",
      "Tatad Tatad Tatad Tatad Tatad Tatad Tatad Tadad\n",
      "Tatad Tatad Tatad Tatad Tatad Tatad Tatad Tadad\n"
     ]
    }
   ],
   "source": [
    "def print_lyrics():\n",
    "    print(\"Tatad Tatad Tatad Tatad Tatad Tatad Tatad Tadad\")\n",
    "    \n",
    "print_lyrics()\n",
    "print_lyrics()\n",
    "print_lyrics()"
   ]
  },
  {
   "cell_type": "markdown",
   "metadata": {},
   "source": [
    "### Parameters an arguments: \n",
    "Some of the functions that are built in Python, need arguments. Like, when math.sin is called, the argument is a number. Some of the functions need more than a single argument. For example: math.pow takes two argument. One is the base and other- the exponent.\n",
    "In the functions, the arguments are assigned to the variables known as parameters.\n",
    "Below is the example of a user defined function that takes an argument:"
   ]
  },
  {
   "cell_type": "code",
   "execution_count": 65,
   "metadata": {},
   "outputs": [
    {
     "name": "stdout",
     "output_type": "stream",
     "text": [
      "DDD\n",
      "DDD\n",
      "11\n",
      "11\n"
     ]
    }
   ],
   "source": [
    "def print_twice(Hi):\n",
    "    print(Hi)\n",
    "    print(Hi)\n",
    "\n",
    "print_twice('DDD')\n",
    "print_twice(11)"
   ]
  },
  {
   "cell_type": "markdown",
   "metadata": {},
   "source": [
    "This same rule of compositions also applies for the built in functions:"
   ]
  },
  {
   "cell_type": "code",
   "execution_count": 66,
   "metadata": {},
   "outputs": [
    {
     "name": "stdout",
     "output_type": "stream",
     "text": [
      "-1.0\n",
      "-1.0\n"
     ]
    }
   ],
   "source": [
    "def print_twice(Hi):\n",
    "    print(Hi)\n",
    "    print(Hi)\n",
    "    \n",
    "print_twice(math.cos(math.pi))"
   ]
  },
  {
   "cell_type": "markdown",
   "metadata": {},
   "source": [
    "A variable can also be used as an argument:"
   ]
  },
  {
   "cell_type": "code",
   "execution_count": 68,
   "metadata": {},
   "outputs": [
    {
     "name": "stdout",
     "output_type": "stream",
     "text": [
      "1\n",
      "1\n"
     ]
    }
   ],
   "source": [
    "def print_twice(Hi):\n",
    "    print(Hi)\n",
    "    print(Hi)\n",
    "    \n",
    "Number = '1'\n",
    "print_twice(Number)"
   ]
  },
  {
   "cell_type": "markdown",
   "metadata": {},
   "source": [
    "# What are classes in Python?\n",
    "### Almost all the codes in Python are implemented using a special construct called as classes. Programmers use classes to keep similar things with each other. Classes are a way of bringing information and behavior together. It can be called by the keyword- class. We use class to define the data and the code that will make up each of the objects."
   ]
  },
  {
   "cell_type": "code",
   "execution_count": 75,
   "metadata": {},
   "outputs": [
    {
     "name": "stdout",
     "output_type": "stream",
     "text": [
      "Launch in T minus 3\n",
      "Launch in T minus 2\n",
      "Launch in T minus 1\n",
      "Launch in T minus 0\n"
     ]
    }
   ],
   "source": [
    "class Classs:\n",
    "    x = 4\n",
    "    \n",
    "    def number(self):\n",
    "        self.x = self.x - 1\n",
    "        print(\"Launch in T minus\",self.x)\n",
    "        \n",
    "an = Classs()\n",
    "an.number()\n",
    "an.number()\n",
    "an.number()\n",
    "Classs.number(an)"
   ]
  },
  {
   "cell_type": "markdown",
   "metadata": {},
   "source": [
    "### Each method looks like a function, starting with def. The above example has a single attribute x and a single method (number). The methods have a special first parameter- self.\n",
    "### Just as the def keyword doesn't let to the execution of the function code, the class keyword doesn't create an object. Infact, the class defines a template indicating what the data and code will be contained in each object of type 'Classs'.\n",
    "### If we continue in the above code, we can see the fist executable line of code: an = Classs()\n",
    "### This is where python creates an object or \"instance of the class named Classs\". It looks like a function call to the class itself and Python creates the object with the right data and methods and returns the object which is then assigned to the variable 'an'. It is somewhat similar to the code that we have used before : counts = dicts.\n",
    "### Here Python is told to make an object using the dict template, return the instance of dictionary and assign it to the variable counts.\n",
    "### When we use the 'Classs' class to create an object, the variable 'an' is used to point to the object. 'an' is used to acess the code and data for that instance of 'Classs' object.\n",
    "### Each Classs object has inside it a variable x and a function named number. We call the number method in this line: an.number()\n",
    "### While calling the number method, the first parameter points to that very instance of the Classs object that number is called from within. Within the number method there's a line: self.x = self.x - 1. This syntax of using a period in between translates to 'x withing self'. So each time number() is called, the value x is decreased by 1 and then it is printed.\n",
    "### To help make sence of the difference between a global function and a method within a class or an object, the following code is another way to call the 'number' method within the 'an' object.: Classs.number(an).\n",
    "### In this we are accessing the code from within the class and passing the object pointer 'an' in as the first parameter. The output of the whole program is as given above.\n"
   ]
  },
  {
   "cell_type": "markdown",
   "metadata": {},
   "source": [
    "### Classes as Types:\n",
    "In Python, all the variables have a type. The built in 'dir' function can be used to examine the capabilites of a variable. 'type' and 'dir' can also be used with the classes that we create."
   ]
  },
  {
   "cell_type": "code",
   "execution_count": 77,
   "metadata": {},
   "outputs": [
    {
     "name": "stdout",
     "output_type": "stream",
     "text": [
      "Type <class '__main__.Classs'>\n",
      "Dir ['__class__', '__delattr__', '__dict__', '__dir__', '__doc__', '__eq__', '__format__', '__ge__', '__getattribute__', '__gt__', '__hash__', '__init__', '__init_subclass__', '__le__', '__lt__', '__module__', '__ne__', '__new__', '__reduce__', '__reduce_ex__', '__repr__', '__setattr__', '__sizeof__', '__str__', '__subclasshook__', '__weakref__', 'number', 'x']\n",
      "Type <class '__main__.Classs'>\n",
      "Type <class 'method'>\n"
     ]
    }
   ],
   "source": [
    "class Classs:\n",
    "    x = 4\n",
    "    \n",
    "    def number(self):\n",
    "        self.x = self.x - 1\n",
    "        print(\"Launch in T minus\",self.x)\n",
    "        \n",
    "an = Classs()\n",
    "print (\"Type\", type(an))\n",
    "print (\"Dir\", dir(an))\n",
    "print (\"Type\", type(an))\n",
    "print (\"Type\", type(an.number))"
   ]
  },
  {
   "cell_type": "markdown",
   "metadata": {},
   "source": [
    "We can see that we created a new type using class keyword. In the dir output we can see that both x integer and the number method are available in the object."
   ]
  },
  {
   "cell_type": "markdown",
   "metadata": {},
   "source": [
    "### Above, we were defined a class, made a single object, used the object and then we discarded it. The real power in the object oriented happens when we make a lot of instances of our class.\n",
    "### When we make a number of objects from our class, we might want to have different initial values for every object. We can pass the data into constructors ."
   ]
  },
  {
   "cell_type": "code",
   "execution_count": 82,
   "metadata": {},
   "outputs": [
    {
     "name": "stdout",
     "output_type": "stream",
     "text": [
      "XYZ constructed\n",
      "XYZ number count 1\n",
      "ABC constructed\n",
      "ABC number count 1\n",
      "XYZ number count 2\n"
     ]
    }
   ],
   "source": [
    "class Classs:\n",
    "    x = 0\n",
    "    def __init__(self, nam):\n",
    "        self.name = nam\n",
    "        print(self.name, 'constructed')\n",
    "    \n",
    "    def number(self):\n",
    "        self.x = self.x + 1\n",
    "        print(self.name, 'number count', self.x)\n",
    "    \n",
    "s = Classs('XYZ')\n",
    "s.number()\n",
    "t = Classs('ABC')\n",
    "t.number()\n",
    "s.number()"
   ]
  },
  {
   "cell_type": "markdown",
   "metadata": {},
   "source": [
    "Here the constructor has a self parameter which points towards the object instance and then another addition parameters that are passed into the constructor as the object is being constructed: s = Classs('XYZ'). Within the constructor, the line: self.name = nam copies the parameter passed into (nam) into the name attribute within the object instance. The output shown above shows that each of the objects (s and t) contain their own independent copies of x and nam."
   ]
  },
  {
   "cell_type": "markdown",
   "metadata": {},
   "source": [
    "### Inheritance of Classes:\n",
    "### We can also create a new class by extending an existing class. When extending a class, the original preexisting class is known as parent class and the new class is known as the child class. For example:"
   ]
  },
  {
   "cell_type": "code",
   "execution_count": 84,
   "metadata": {},
   "outputs": [],
   "source": [
    "class Classs:\n",
    "    x = 0\n",
    "    name = ''\n",
    "    def __init__(self, nam):\n",
    "        self.name = nam\n",
    "        print(self.name,'constructed')\n",
    "    def number(self):\n",
    "        self.x = self.x + 1 \n",
    "        print(self.name, 'number count', self.x)"
   ]
  },
  {
   "cell_type": "markdown",
   "metadata": {},
   "source": [
    "Now we can import the Classs class in a new file and then extend it in the below way:"
   ]
  },
  {
   "cell_type": "code",
   "execution_count": 91,
   "metadata": {},
   "outputs": [
    {
     "name": "stdout",
     "output_type": "stream",
     "text": [
      "XYZ constructed\n",
      "XYZ number count 1\n",
      "ABC constructed\n",
      "ABC number count 1\n",
      "ABC number count 2\n",
      "ABC points 6\n",
      "['__class__', '__delattr__', '__dict__', '__dir__', '__doc__', '__eq__', '__format__', '__ge__', '__getattribute__', '__gt__', '__hash__', '__init__', '__init_subclass__', '__le__', '__lt__', '__module__', '__ne__', '__new__', '__reduce__', '__reduce_ex__', '__repr__', '__setattr__', '__sizeof__', '__str__', '__subclasshook__', '__weakref__', 'name', 'number', 'points', 'six', 'x']\n"
     ]
    }
   ],
   "source": [
    "class Classs:\n",
    "    x = 0\n",
    "    name = ''\n",
    "    def __init__(self, nam):\n",
    "        self.name = nam\n",
    "        print(self.name,'constructed')\n",
    "    def number(self):\n",
    "        self.x = self.x + 1 \n",
    "        print(self.name, 'number count', self.x)\n",
    "        \n",
    "class CricketFan(Classs):\n",
    "    points = 0\n",
    "    def six(self):\n",
    "        self.points = self.points + 6\n",
    "        self.number()\n",
    "        print(self.name, \"points\", self.points)\n",
    "    \n",
    "s = Classs(\"XYZ\")\n",
    "s.number()\n",
    "t = CricketFan(\"ABC\")\n",
    "t.number()\n",
    "t.six()\n",
    "print(dir(t))"
   ]
  },
  {
   "cell_type": "markdown",
   "metadata": {},
   "source": [
    "Here, while defining the object CricketFan, we are indicating that we are extending the pre-existing class- Classs. This means that the variables and method from the Classs class are also inherited by the CricketFan class."
   ]
  },
  {
   "cell_type": "markdown",
   "metadata": {},
   "source": [
    "References: \n",
    "\n",
    "Book: Severance, Charles. Python for Everybody. Mumbai:Shroff Publishers & Distributors Pvt. Ltd. 2009"
   ]
  }
 ],
 "metadata": {
  "kernelspec": {
   "display_name": "Python 3",
   "language": "python",
   "name": "python3"
  },
  "language_info": {
   "codemirror_mode": {
    "name": "ipython",
    "version": 3
   },
   "file_extension": ".py",
   "mimetype": "text/x-python",
   "name": "python",
   "nbconvert_exporter": "python",
   "pygments_lexer": "ipython3",
   "version": "3.7.3"
  }
 },
 "nbformat": 4,
 "nbformat_minor": 2
}
